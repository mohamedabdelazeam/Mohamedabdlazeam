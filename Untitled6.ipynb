{
  "nbformat": 4,
  "nbformat_minor": 0,
  "metadata": {
    "colab": {
      "provenance": [],
      "authorship_tag": "ABX9TyMNF5ElkinyuEdhZNya9Gkd",
      "include_colab_link": true
    },
    "kernelspec": {
      "name": "python3",
      "display_name": "Python 3"
    },
    "language_info": {
      "name": "python"
    }
  },
  "cells": [
    {
      "cell_type": "markdown",
      "metadata": {
        "id": "view-in-github",
        "colab_type": "text"
      },
      "source": [
        "<a href=\"https://colab.research.google.com/github/mohamedabdelazeam/Mohamedabdlazeam/blob/main/Untitled6.ipynb\" target=\"_parent\"><img src=\"https://colab.research.google.com/assets/colab-badge.svg\" alt=\"Open In Colab\"/></a>"
      ]
    },
    {
      "cell_type": "code",
      "source": [
        "import numpy as np\n",
        "\n",
        "# Define the TSP data (city coordinates and distance matrix)\n",
        "cities = np.array([[4, 4], [1, 4], [3, 2], [4, 1], [2, 3]])\n",
        "num_cities = len(cities)\n",
        "\n",
        "# Define the parameters for the Cuckoo Search Algorithm\n",
        "population_size = 50\n",
        "max_iterations = 50\n",
        "alpha = 0.0  # Step size control parameter\n",
        "pa = 0.25   # Fraction of nests to be replaced\n",
        "beta = 1.5  # Lévy flight power-law index\n",
        "\n",
        "# Function to calculate the Euclidean distance between two cities\n",
        "def distance(city1, city2):\n",
        "    return np.linalg.norm(city1 - city2)\n",
        "\n",
        "# Function to calculate the total distance of a tour\n",
        "def tour_distance(tour):\n",
        "    total_distance = 0\n",
        "    for i in range(num_cities):\n",
        "        total_distance += distance(cities[tour[i]], cities[tour[(i+1) % num_cities]])\n",
        "    return total_distance\n",
        "\n",
        "# Initialize the population with shuffled tours\n",
        "population = []\n",
        "for _ in range(population_size):\n",
        "    tour = np.arange(num_cities)\n",
        "    np.random.shuffle(tour)\n",
        "    population.append(tour)\n",
        "\n",
        "# Perform the Cuckoo Search Algorithm iterations\n",
        "for iteration in range(max_iterations):\n",
        "    # Sort the population by fitness (tour distance)\n",
        "    population.sort(key=lambda tour: tour_distance(tour))\n",
        "    \n",
        "    # Levy flights and replacement\n",
        "    new_population = []\n",
        "    for i in range(population_size):\n",
        "        cuckoo = population[i].copy()\n",
        "        # Perform Levy flights to generate a new solution (tour)\n",
        "        step_size = (alpha * np.random.randn(num_cities)) / np.power(np.abs(np.random.randn()), 1/beta)\n",
        "        cuckoo = (cuckoo + step_size).astype(int)\n",
        "        cuckoo = np.clip(cuckoo, 0, num_cities-1)\n",
        "        # Replace a fraction of nests with the new solution\n",
        "        if np.random.rand() < pa:\n",
        "            new_population.append(cuckoo)\n",
        "        else:\n",
        "            new_population.append(population[i])\n",
        "    population = new_population\n",
        "\n",
        "# Sort the final population and select the best solution (tour)\n",
        "population.sort(key=lambda tour: tour_distance(tour))\n",
        "best_tour = population[0]\n",
        "best_distance = tour_distance(best_tour)\n",
        "\n",
        "# Print the best tour and its distance\n",
        "print(\"Best Tour:\", best_tour)\n",
        "print(\"Best Distance:\", best_distance)\n"
      ],
      "metadata": {
        "colab": {
          "base_uri": "https://localhost:8080/"
        },
        "id": "MFdO10koYH6j",
        "outputId": "4123e0e8-8bce-4348-c2c4-dd32cadc13c7"
      },
      "execution_count": null,
      "outputs": [
        {
          "output_type": "stream",
          "name": "stdout",
          "text": [
            "Best Tour: [4 1 0 3 2]\n",
            "Best Distance: 10.242640687119286\n"
          ]
        }
      ]
    },
    {
      "cell_type": "code",
      "source": [],
      "metadata": {
        "id": "5RL278V1Yrv4"
      },
      "execution_count": null,
      "outputs": []
    }
  ]
}